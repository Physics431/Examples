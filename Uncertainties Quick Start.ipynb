{
 "cells": [
  {
   "cell_type": "markdown",
   "metadata": {},
   "source": [
    "# An [Uncertainties package](https://pythonhosted.org/uncertainties/) quick start"
   ]
  },
  {
   "cell_type": "markdown",
   "metadata": {},
   "source": [
    "### The Uncertainties Package\n",
    "\n",
    "Uncertainties will do almost all uncertainty propagation automatically.  You just need to create \"uncertainty objects\" which are Python custom types that have two parts: the \"mean\" and the \"uncertainty\".\n",
    "\n",
    "Then for standard mathematical operations, one only needs to use these new objects in the calculation, and the uncertainty propagation occurs all by itself.\n",
    "\n",
    "Here is an example:"
   ]
  },
  {
   "cell_type": "code",
   "execution_count": 1,
   "metadata": {},
   "outputs": [],
   "source": [
    "# Usually import packages via a handle to the functions in them using import ... as ...\n",
    "#\n",
    "import numpy as np\n",
    "import matplotlib.pyplot as plt\n",
    "import matplotlib as mpl\n",
    "import pandas as pd\n",
    "\n",
    "#\n",
    "import uncertainties as unc\n",
    "%matplotlib inline"
   ]
  },
  {
   "cell_type": "code",
   "execution_count": 2,
   "metadata": {},
   "outputs": [
    {
     "name": "stdout",
     "output_type": "stream",
     "text": [
      "ua = 3.00+/-0.30 \n",
      "ub = 4.0+/-0.4 \n",
      "uc = 7.0+/-0.5\n",
      "ua + ub = 7.0+/-0.5\n"
     ]
    }
   ],
   "source": [
    "# Create uncertainty objects\n",
    "# a \"ufloat\" has a value and an uncertainty\n",
    "\n",
    "ua = unc.ufloat(3.0,0.3)\n",
    "ub = unc.ufloat(4.0,0.4)\n",
    "uc = unc.ufloat(7.0,0.5)\n",
    "\n",
    "print(\"ua =\",ua,\"\\nub =\",ub,\"\\nuc =\", uc)\n",
    "print(\"ua + ub =\", ua + ub)"
   ]
  },
  {
   "cell_type": "markdown",
   "metadata": {},
   "source": [
    "Notice how the uncertainty was propagated to the sum of `ua` and `ub` automatically.\n",
    "\n",
    "The package also has useful formatting code.  It prints the value and uncertainty to the same precision (same number of digits past the decimal point). "
   ]
  },
  {
   "cell_type": "code",
   "execution_count": 3,
   "metadata": {},
   "outputs": [
    {
     "name": "stdout",
     "output_type": "stream",
     "text": [
      "c = 7.00+/-0.50\n",
      "c = (7.00±0.50)×10¹⁰\n"
     ]
    }
   ],
   "source": [
    "print('c = {:.2u}'.format(uc))\n",
    "\n",
    "# The \"P\" tag looks prettier.  \"P\" stands for \"pretty print.\"\n",
    "\n",
    "print('c = {:.2uP}'.format(uc*1e10))"
   ]
  },
  {
   "cell_type": "markdown",
   "metadata": {},
   "source": [
    "To get each piece back out, use the attributes `n` or `nominal_value` and `s` or `std_dev`:"
   ]
  },
  {
   "cell_type": "code",
   "execution_count": 4,
   "metadata": {},
   "outputs": [
    {
     "name": "stdout",
     "output_type": "stream",
     "text": [
      "c nominal value = 7.000\n",
      "c standard deviation = 0.500\n",
      "c fractional standard_deviation = 0.071\n",
      "c percent uncertainty = 7.1%\n"
     ]
    }
   ],
   "source": [
    "print('c nominal value = {:.3f}'.format(uc.nominal_value))\n",
    "print('c standard deviation = {:.3f}'.format(uc.s))\n",
    "print('c fractional standard_deviation = {:.3f}'.format(abs(uc.s/uc.n)))\n",
    "print('c percent uncertainty = {:.1%}'.format(abs(uc.s/uc.n)))"
   ]
  },
  {
   "cell_type": "markdown",
   "metadata": {},
   "source": [
    "## Use example: Hall coefficient"
   ]
  },
  {
   "cell_type": "code",
   "execution_count": 5,
   "metadata": {},
   "outputs": [
    {
     "data": {
      "text/html": [
       "<div>\n",
       "<style scoped>\n",
       "    .dataframe tbody tr th:only-of-type {\n",
       "        vertical-align: middle;\n",
       "    }\n",
       "\n",
       "    .dataframe tbody tr th {\n",
       "        vertical-align: top;\n",
       "    }\n",
       "\n",
       "    .dataframe thead th {\n",
       "        text-align: right;\n",
       "    }\n",
       "</style>\n",
       "<table border=\"1\" class=\"dataframe\">\n",
       "  <thead>\n",
       "    <tr style=\"text-align: right;\">\n",
       "      <th></th>\n",
       "      <th>I (mA)</th>\n",
       "      <th>green_up (mV)</th>\n",
       "      <th>green_dn (mV)</th>\n",
       "      <th>2VH</th>\n",
       "    </tr>\n",
       "  </thead>\n",
       "  <tbody>\n",
       "    <tr>\n",
       "      <th>0</th>\n",
       "      <td>10.1</td>\n",
       "      <td>0.0356</td>\n",
       "      <td>0.0358</td>\n",
       "      <td>0.0002</td>\n",
       "    </tr>\n",
       "    <tr>\n",
       "      <th>1</th>\n",
       "      <td>30.9</td>\n",
       "      <td>0.1027</td>\n",
       "      <td>0.1033</td>\n",
       "      <td>0.0006</td>\n",
       "    </tr>\n",
       "    <tr>\n",
       "      <th>2</th>\n",
       "      <td>50.4</td>\n",
       "      <td>0.1649</td>\n",
       "      <td>0.1667</td>\n",
       "      <td>0.0018</td>\n",
       "    </tr>\n",
       "    <tr>\n",
       "      <th>3</th>\n",
       "      <td>75.2</td>\n",
       "      <td>0.2442</td>\n",
       "      <td>0.2464</td>\n",
       "      <td>0.0022</td>\n",
       "    </tr>\n",
       "    <tr>\n",
       "      <th>4</th>\n",
       "      <td>96.4</td>\n",
       "      <td>0.3117</td>\n",
       "      <td>0.3149</td>\n",
       "      <td>0.0032</td>\n",
       "    </tr>\n",
       "    <tr>\n",
       "      <th>5</th>\n",
       "      <td>124.4</td>\n",
       "      <td>0.4007</td>\n",
       "      <td>0.4047</td>\n",
       "      <td>0.0040</td>\n",
       "    </tr>\n",
       "    <tr>\n",
       "      <th>6</th>\n",
       "      <td>145.6</td>\n",
       "      <td>0.4683</td>\n",
       "      <td>0.4732</td>\n",
       "      <td>0.0049</td>\n",
       "    </tr>\n",
       "    <tr>\n",
       "      <th>7</th>\n",
       "      <td>174.9</td>\n",
       "      <td>0.5619</td>\n",
       "      <td>0.5675</td>\n",
       "      <td>0.0056</td>\n",
       "    </tr>\n",
       "    <tr>\n",
       "      <th>8</th>\n",
       "      <td>199.2</td>\n",
       "      <td>0.6394</td>\n",
       "      <td>0.6461</td>\n",
       "      <td>0.0067</td>\n",
       "    </tr>\n",
       "  </tbody>\n",
       "</table>\n",
       "</div>"
      ],
      "text/plain": [
       "   I (mA)  green_up (mV)  green_dn (mV)     2VH\n",
       "0    10.1         0.0356         0.0358  0.0002\n",
       "1    30.9         0.1027         0.1033  0.0006\n",
       "2    50.4         0.1649         0.1667  0.0018\n",
       "3    75.2         0.2442         0.2464  0.0022\n",
       "4    96.4         0.3117         0.3149  0.0032\n",
       "5   124.4         0.4007         0.4047  0.0040\n",
       "6   145.6         0.4683         0.4732  0.0049\n",
       "7   174.9         0.5619         0.5675  0.0056\n",
       "8   199.2         0.6394         0.6461  0.0067"
      ]
     },
     "execution_count": 5,
     "metadata": {},
     "output_type": "execute_result"
    }
   ],
   "source": [
    "# Read in Hall probe measurements\n",
    "\n",
    "Al_data = pd.read_csv('Al_probe_measurements.csv')\n",
    "Al_data"
   ]
  },
  {
   "cell_type": "code",
   "execution_count": 6,
   "metadata": {},
   "outputs": [],
   "source": [
    "# Useful plot default\n",
    "mpl.rcParams['figure.figsize'] = 12.0,8.0  # Roughly 12 cm wde by 8 cm high\n",
    "mpl.rcParams['font.size'] = 14.0 # Use 14 point font"
   ]
  },
  {
   "cell_type": "code",
   "execution_count": 7,
   "metadata": {},
   "outputs": [
    {
     "data": {
      "image/png": "[encoded data removed]",
      "text/plain": [
       "<Figure size 864x576 with 1 Axes>"
      ]
     },
     "metadata": {
      "needs_background": "light"
     },
     "output_type": "display_data"
    }
   ],
   "source": [
    "# See the examples for how to make a plot\n",
    "# Metal first\n",
    "plt.plot(Al_data['I (mA)'],Al_data['2VH'],'o',label=\"Aluminum probe\")\n",
    "plt.grid(True)\n",
    "plt.xlabel('Probe current (mA)')\n",
    "plt.ylabel(r'$2V_H$ (mV)')\n",
    "plt.title(\"Hall effect probe measurements\")\n",
    "plt.legend();\n",
    "\n"
   ]
  },
  {
   "cell_type": "markdown",
   "metadata": {},
   "source": [
    "## Fit the data to extract the slope of $2V_H/I_x$\n",
    "\n",
    "Use LMfit.  See the examples."
   ]
  },
  {
   "cell_type": "code",
   "execution_count": 8,
   "metadata": {},
   "outputs": [],
   "source": [
    "# Set  up the Model\n",
    "\n",
    "# Import the Linear model.\n",
    "# You only do this once in a notebook\n",
    "from lmfit.models import LinearModel\n",
    "\n",
    "# create an instance of the model\n",
    "# You only need to do this once\n",
    "line = LinearModel()\n"
   ]
  },
  {
   "cell_type": "code",
   "execution_count": 9,
   "metadata": {},
   "outputs": [
    {
     "data": {
      "text/html": [
       "<h2> Model</h2> Model(linear) <h2>Fit Statistics</h2><table><tr><td>fitting method</td><td>leastsq</td><td></td></tr><tr><td># function evals</td><td>3</td><td></td></tr><tr><td># data points</td><td>9</td><td></td></tr><tr><td># variables</td><td>2</td><td></td></tr><tr><td>chi-square</td><td> 2.4331e-07</td><td></td></tr><tr><td>reduced chi-square</td><td> 3.4758e-08</td><td></td></tr><tr><td>Akaike info crit.</td><td>-152.835466</td><td></td></tr><tr><td>Bayesian info crit.</td><td>-152.441017</td><td></td></tr></table><h2>Variables</h2><table><tr><th> name </th><th> value </th><th> standard error </th><th> relative error </th><th> initial value </th><th> min </th><th> max </th><th> vary </th></tr><tr><td> slope </td><td>  3.4267e-05 </td><td>  1.0101e-06 </td><td> (2.95%) </td><td> 3.4266638754680456e-05 </td><td>        -inf </td><td>         inf </td><td> True </td></tr><tr><td> intercept </td><td> -2.0925e-04 </td><td>  1.1928e-04 </td><td> (57.00%) </td><td> -0.00020925200159676267 </td><td>        -inf </td><td>         inf </td><td> True </td></tr></table><h2>Correlations (unreported correlations are < 0.100)</h2><table><tr><td>slope</td><td>intercept</td><td>-0.8535</td></tr></table>"
      ],
      "text/plain": [
       "<lmfit.model.ModelResult at 0x1b838b274f0>"
      ]
     },
     "execution_count": 9,
     "metadata": {},
     "output_type": "execute_result"
    }
   ],
   "source": [
    "# Aluminum first\n",
    "#\n",
    "# Get starting parameters\n",
    "Al_params = line.guess(Al_data['2VH'], x=Al_data['I (mA)'])\n",
    "\n",
    "# Feed these into the fitter and run it.\n",
    "Al_fit = line.fit(Al_data['2VH'], Al_params, x=Al_data['I (mA)'])\n",
    "\n",
    "# Print the results\n",
    "Al_fit"
   ]
  },
  {
   "cell_type": "code",
   "execution_count": 10,
   "metadata": {},
   "outputs": [
    {
     "data": {
      "text/plain": [
       "Text(0, 0.5, '$2V_H$ (mV)')"
      ]
     },
     "execution_count": 10,
     "metadata": {},
     "output_type": "execute_result"
    },
    {
     "data": {
      "image/png": "[encoded data removed]",
      "text/plain": [
       "<Figure size 864x864 with 2 Axes>"
      ]
     },
     "metadata": {
      "needs_background": "light"
     },
     "output_type": "display_data"
    }
   ],
   "source": [
    "# Make a plot\n",
    "Al_fit.plot()\n",
    "plt.grid(True)\n",
    "plt.title('Fit for Aluminum probe')\n",
    "plt.xlabel('Probe current (mA)')\n",
    "plt.ylabel(r'$2V_H$ (mV)')"
   ]
  },
  {
   "cell_type": "markdown",
   "metadata": {},
   "source": [
    "### Extract the slope with uncertainty from the fit parameters\n"
   ]
  },
  {
   "cell_type": "code",
   "execution_count": 11,
   "metadata": {},
   "outputs": [
    {
     "name": "stdout",
     "output_type": "stream",
     "text": [
      "2VH/Ix for aluminum = (3.43±0.10)×10⁻⁵ V/A\n"
     ]
    }
   ],
   "source": [
    "Al_slope = unc.ufloat(Al_fit.params['slope'].value, Al_fit.params['slope'].stderr)\n",
    "print('2VH/Ix for aluminum = {:.2uP} V/A'.format(Al_slope))"
   ]
  },
  {
   "cell_type": "markdown",
   "metadata": {},
   "source": [
    "### Calculate the Hall coefficient\n",
    "\n",
    "The Hall coefficient $R_H$ is related to the measurements by\n",
    "\n",
    "$$V_H = -R_H\\frac{I_xB_z}{t}$$ \n",
    "\n",
    "where $t$ is the thichness of the sample strip.  From the linefit, we have the slope $m = 2V_H/I_x$  so\n",
    "\n",
    "$$R_H = -m\\frac{t}{2B_z}$$\n",
    "\n",
    "In the instructions there is a list of probe parameters.  Use these to calculate the Hall coefficient and its statistical uncertainty."
   ]
  },
  {
   "cell_type": "code",
   "execution_count": 12,
   "metadata": {},
   "outputs": [
    {
     "name": "stdout",
     "output_type": "stream",
     "text": [
      "The Hall coefficient for the aluminum probe is (-2.99±0.24)×10⁻¹¹ m^3/A-s\n"
     ]
    }
   ],
   "source": [
    "# For Al, from Table 1, create uncertainty object for thickness\n",
    "\n",
    "# Probe thickness\n",
    "ut = unc.ufloat(2.34e-7, 0.17e-7) # in meters\n",
    "\n",
    "# The field strength of the magnet = 134.0714±0.7832 mT\n",
    "uB = unc.ufloat(134.0714,0.7832)*1e-3 # in tesla\n",
    "\n",
    "RH_Al = -Al_slope*ut/(2*uB) # B-field needs to be in unit of tesla\n",
    "\n",
    "print('The Hall coefficient for the aluminum probe is {:.2uP} m^3/A-s'.format(RH_Al))\n"
   ]
  },
  {
   "cell_type": "markdown",
   "metadata": {},
   "source": [
    "### Obtain contributions to the calculated error\n",
    "\n",
    "**Uncertainties** calculates according to the theory of \"Linear Error Propagation\" which assumes that the uncertainties are calcuated according to the formula \n",
    "$$ \\sigma_f^2 = \\left(\\frac{\\partial f}{\\partial a}\\right)^2\\sigma_a^2 + \n",
    "                \\left(\\frac{\\partial f}{\\partial b}\\right)^2\\sigma_b^2 +\n",
    "                \\left(\\frac{\\partial f}{\\partial c}\\right)^2\\sigma_c^2 + \\ldots $$\n",
    "where $f$ is a function of quantities $a, b, c, \\ldots$.\n",
    "\n",
    "You can obtain the contributions of uncertainty from each term in the above calculation through the `error_components()` method:"
   ]
  },
  {
   "cell_type": "code",
   "execution_count": 13,
   "metadata": {
    "scrolled": true
   },
   "outputs": [
    {
     "name": "stdout",
     "output_type": "stream",
     "text": [
      "Error components:\n",
      "134.07±0.78 : 1.747e-13\n",
      "(2.34±0.17)×10⁻⁷ : 2.172e-12\n",
      "(3.43±0.10)×10⁻⁵ : 8.815e-13\n"
     ]
    }
   ],
   "source": [
    "print('Error components:')\n",
    "for (value, err_component) in RH_Al.error_components().items():\n",
    "    print('{:.2uP} : {:.4g}'.format(value, err_component))"
   ]
  },
  {
   "cell_type": "markdown",
   "metadata": {},
   "source": [
    "The error components have the same units as the final value of the calculation.  The calculated uncertainty is the square root of the sum of the squares of the error components.  Thus, the percent contribution of each item $x$ would be given by\n",
    "$$ \\frac{1}{\\sigma_f^2}\\left(\\frac{\\partial f}{\\partial x}\\right)^2\\sigma_x^2\\times 100$$"
   ]
  },
  {
   "cell_type": "code",
   "execution_count": 14,
   "metadata": {},
   "outputs": [
    {
     "name": "stdout",
     "output_type": "stream",
     "text": [
      "Percent contribution of error components to final uncertainty:\n",
      "134.07±0.78 : 0.6%\n",
      "(2.34±0.17)×10⁻⁷ : 85.4%\n",
      "(3.43±0.10)×10⁻⁵ : 14.1%\n"
     ]
    }
   ],
   "source": [
    "print('Percent contribution of error components to final uncertainty:')\n",
    "for (value, err_component) in RH_Al.error_components().items():\n",
    "    print('{:.2uP} : {:.1%}'.format(value, (err_component/RH_Al.std_dev)**2))"
   ]
  },
  {
   "cell_type": "markdown",
   "metadata": {},
   "source": [
    "By \"tagging\" the uncertainty object when it is built, you can label each item for this analysis:"
   ]
  },
  {
   "cell_type": "code",
   "execution_count": 15,
   "metadata": {},
   "outputs": [
    {
     "name": "stdout",
     "output_type": "stream",
     "text": [
      "The Hall coefficient for the aluminum probe is (-2.99±0.24)×10⁻¹¹ m^3/A-s\n",
      "\n",
      "Percent contribution of error components to final uncertainty:\n",
      "       B :  0.6%\n",
      "       t : 85.4%\n",
      "   2VH/I : 14.1%\n"
     ]
    }
   ],
   "source": [
    "# Add tags to each item in the calculation\n",
    "Al_slope = unc.ufloat(Al_fit.params['slope'].value, Al_fit.params['slope'].stderr,tag='2VH/I')\n",
    "uB = unc.ufloat(134.0714,0.7832,tag='B')*1e-3 # in tesla\n",
    "ut = unc.ufloat(2.34e-7, 0.17e-7,tag='t') # in meters\n",
    "\n",
    "RH_Al = -Al_slope*ut/(2*uB) # B-field needs to be in unit of tesla\n",
    "\n",
    "print('The Hall coefficient for the aluminum probe is {:.2uP} m^3/A-s'.format(RH_Al))\n",
    "print('\\nPercent contribution of error components to final uncertainty:')\n",
    "for (value, err_component) in RH_Al.error_components().items():\n",
    "    print('{:>8s} : {:5.1%}'.format(value.tag, (err_component/RH_Al.std_dev)**2))"
   ]
  },
  {
   "cell_type": "code",
   "execution_count": null,
   "metadata": {},
   "outputs": [],
   "source": []
  },
  {
   "cell_type": "code",
   "execution_count": null,
   "metadata": {},
   "outputs": [],
   "source": []
  }
 ],
 "metadata": {
  "kernelspec": {
   "display_name": "Python 3 (ipykernel)",
   "language": "python",
   "name": "python3"
  },
  "language_info": {
   "codemirror_mode": {
    "name": "ipython",
    "version": 3
   },
   "file_extension": ".py",
   "mimetype": "text/x-python",
   "name": "python",
   "nbconvert_exporter": "python",
   "pygments_lexer": "ipython3",
   "version": "3.9.12"
  }
 },
 "nbformat": 4,
 "nbformat_minor": 2
}
